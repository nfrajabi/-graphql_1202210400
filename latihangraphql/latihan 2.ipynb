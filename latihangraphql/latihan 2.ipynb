{
 "cells": [
  {
   "cell_type": "code",
   "execution_count": 1,
   "metadata": {},
   "outputs": [],
   "source": [
    "import graphene"
   ]
  },
  {
   "cell_type": "code",
   "execution_count": 2,
   "metadata": {},
   "outputs": [],
   "source": [
    "class Book(graphene.ObjectType):\n",
    "    id = graphene.ID()\n",
    "    title = graphene.String()\n",
    "    \n",
    "class Query(graphene.ObjectType):\n",
    "    book = graphene.Field(Book)\n",
    "\n",
    "    def resolve_book(self, info):\n",
    "        return Book(id=\"1\", title=\"Buku 1\")\n",
    "    \n",
    "schema = graphene.Schema(query=Query)"
   ]
  },
  {
   "cell_type": "code",
   "execution_count": 3,
   "metadata": {},
   "outputs": [
    {
     "name": "stdout",
     "output_type": "stream",
     "text": [
      "{'book': {'id': '1', 'title': 'Buku 1'}}\n"
     ]
    }
   ],
   "source": [
    "q = '''\n",
    "{\n",
    "    book {\n",
    "        id\n",
    "        title\n",
    "    }\n",
    "}\n",
    "'''\n",
    "\n",
    "result = schema.execute(q)\n",
    "print(result.data)"
   ]
  },
  {
   "cell_type": "code",
   "execution_count": 4,
   "metadata": {},
   "outputs": [
    {
     "name": "stdout",
     "output_type": "stream",
     "text": [
      "{'book': {'id': '1'}}\n"
     ]
    }
   ],
   "source": [
    "q = '''\n",
    "{\n",
    "    book {\n",
    "        id\n",
    "    }\n",
    "}\n",
    "'''\n",
    "\n",
    "result = schema.execute(q)\n",
    "print(result.data)"
   ]
  },
  {
   "cell_type": "code",
   "execution_count": 5,
   "metadata": {},
   "outputs": [
    {
     "name": "stdout",
     "output_type": "stream",
     "text": [
      "{'book': {'title': 'Buku 1'}}\n"
     ]
    }
   ],
   "source": [
    "q = '''\n",
    "{\n",
    "    book {\n",
    "        title\n",
    "    }\n",
    "}\n",
    "'''\n",
    "\n",
    "result = schema.execute(q)\n",
    "print(result.data)"
   ]
  },
  {
   "cell_type": "code",
   "execution_count": 6,
   "metadata": {},
   "outputs": [],
   "source": [
    "class Book(graphene.ObjectType):\n",
    "    id = graphene.ID()\n",
    "    title = graphene.String()\n",
    "    \n",
    "class Query(graphene.ObjectType):\n",
    "    book = graphene.Field(Book)\n",
    "    # books = graphene.List(Book)\n",
    "\n",
    "    def resolve_book(self, info):\n",
    "        print(info.schema)\n",
    "        return Book(id=\"1\", title=\"Buku 1\")\n",
    "    \n",
    "schema = graphene.Schema(query=Query)"
   ]
  },
  {
   "cell_type": "code",
   "execution_count": 7,
   "metadata": {},
   "outputs": [
    {
     "name": "stdout",
     "output_type": "stream",
     "text": [
      "<graphql.type.schema.GraphQLSchema object at 0x111361c00>\n",
      "{'book': {'id': '1', 'title': 'Buku 1'}}\n"
     ]
    }
   ],
   "source": [
    "q = '''\n",
    "{\n",
    "    book {\n",
    "        id\n",
    "        title\n",
    "    }\n",
    "}\n",
    "'''\n",
    "\n",
    "result = schema.execute(q)\n",
    "print(result.data)"
   ]
  },
  {
   "cell_type": "code",
   "execution_count": 8,
   "metadata": {},
   "outputs": [],
   "source": [
    "class Book(graphene.ObjectType):\n",
    "    id = graphene.ID()\n",
    "    title = graphene.String()\n",
    "    \n",
    "class Query(graphene.ObjectType):\n",
    "    book = graphene.Field(Book)\n",
    "    # books = graphene.List(Book)\n",
    "\n",
    "    def resolve_book(self, info):\n",
    "        print(info.field_name)\n",
    "        return Book(id=\"1\", title=\"Buku 1\")\n",
    "    \n",
    "schema = graphene.Schema(query=Query)"
   ]
  },
  {
   "cell_type": "code",
   "execution_count": 9,
   "metadata": {},
   "outputs": [
    {
     "name": "stdout",
     "output_type": "stream",
     "text": [
      "book\n",
      "{'book': {'id': '1', 'title': 'Buku 1'}}\n"
     ]
    }
   ],
   "source": [
    "q = '''\n",
    "{\n",
    "    book {\n",
    "        id\n",
    "        title\n",
    "    }\n",
    "}\n",
    "'''\n",
    "\n",
    "result = schema.execute(q)\n",
    "print(result.data)"
   ]
  },
  {
   "cell_type": "code",
   "execution_count": 10,
   "metadata": {},
   "outputs": [],
   "source": [
    "class Book(graphene.ObjectType):\n",
    "    id = graphene.ID()\n",
    "    title = graphene.String()\n",
    "    \n",
    "class Query(graphene.ObjectType):\n",
    "    book = graphene.Field(Book)\n",
    "    books = graphene.List(Book)\n",
    "\n",
    "    def resolve_book(self, info):\n",
    "        return Book(id=\"1\", title=\"Buku 1\")\n",
    "    \n",
    "    def resolve_books(self, info):\n",
    "        return [\n",
    "            Book(id=\"1\", title=\"Buku 1\"),\n",
    "            Book(id=\"2\", title=\"Buku 2\"),\n",
    "            Book(id=\"3\", title=\"Buku 3\")\n",
    "        ]\n",
    "    \n",
    "schema = graphene.Schema(query=Query)"
   ]
  },
  {
   "cell_type": "code",
   "execution_count": 11,
   "metadata": {},
   "outputs": [
    {
     "name": "stdout",
     "output_type": "stream",
     "text": [
      "{'books': [{'id': '1', 'title': 'Buku 1'}, {'id': '2', 'title': 'Buku 2'}, {'id': '3', 'title': 'Buku 3'}]}\n"
     ]
    }
   ],
   "source": [
    "q = '''\n",
    "{\n",
    "    books {\n",
    "        id\n",
    "        title\n",
    "    }\n",
    "}\n",
    "'''\n",
    "\n",
    "result = schema.execute(q)\n",
    "print(result.data)"
   ]
  },
  {
   "cell_type": "code",
   "execution_count": null,
   "metadata": {},
   "outputs": [],
   "source": []
  },
  {
   "cell_type": "markdown",
   "metadata": {},
   "source": [
    "### Update Data"
   ]
  },
  {
   "cell_type": "code",
   "execution_count": 23,
   "metadata": {},
   "outputs": [],
   "source": [
    "data = [\n",
    "    {\"id\": \"1\", \"title\": \"buku 1\"},\n",
    "    {\"id\": \"2\", \"title\": \"buku 2\"},\n",
    "    {\"id\": \"3\", \"title\": \"buku 3\"},\n",
    "    {\"id\": \"4\", \"title\": \"buku 4\"},\n",
    "    {\"id\": \"5\", \"title\": \"buku 5\"},\n",
    "    {\"id\": \"6\", \"title\": \"buku 6\"},\n",
    "    {\"id\": \"7\", \"title\": \"buku 7\"}\n",
    "]"
   ]
  },
  {
   "cell_type": "code",
   "execution_count": 24,
   "metadata": {},
   "outputs": [
    {
     "data": {
      "text/plain": [
       "{'id': '7', 'title': 'buku 7'}"
      ]
     },
     "execution_count": 24,
     "metadata": {},
     "output_type": "execute_result"
    }
   ],
   "source": [
    "data[6]"
   ]
  },
  {
   "cell_type": "code",
   "execution_count": 25,
   "metadata": {},
   "outputs": [
    {
     "data": {
      "text/plain": [
       "[{'id': '1', 'title': 'buku 1'},\n",
       " {'id': '2', 'title': 'buku 2'},\n",
       " {'id': '3', 'title': 'buku 3'},\n",
       " {'id': '4', 'title': 'buku 4'},\n",
       " {'id': '5', 'title': 'buku 5'},\n",
       " {'id': '6', 'title': 'buku 6'},\n",
       " {'id': '7', 'title': 'buku 7'}]"
      ]
     },
     "execution_count": 25,
     "metadata": {},
     "output_type": "execute_result"
    }
   ],
   "source": [
    "data"
   ]
  },
  {
   "cell_type": "code",
   "execution_count": 26,
   "metadata": {},
   "outputs": [
    {
     "name": "stdout",
     "output_type": "stream",
     "text": [
      "{'books': [{'id': '1', 'title': 'buku 1'}, {'id': '2', 'title': 'buku 2'}, {'id': '3', 'title': 'buku 3'}, {'id': '4', 'title': 'buku 4'}, {'id': '5', 'title': 'buku 5'}, {'id': '6', 'title': 'buku 6'}, {'id': '7', 'title': 'buku 7'}]}\n"
     ]
    }
   ],
   "source": [
    "class Book(graphene.ObjectType):\n",
    "    id = graphene.ID()\n",
    "    title = graphene.String()\n",
    "    \n",
    "class Query(graphene.ObjectType):\n",
    "    book = graphene.Field(Book)\n",
    "    books = graphene.List(Book)\n",
    "\n",
    "    def resolve_book(self, info):\n",
    "        return Book(id=data[1][\"id\"], title=data[1][\"title\"])\n",
    "    \n",
    "    def resolve_books(self, info):\n",
    "        return [Book(id=i[\"id\"], title=i[\"title\"]) for i in data]\n",
    "    \n",
    "schema = graphene.Schema(query=Query)\n",
    "\n",
    "q = '''\n",
    "{\n",
    "    books {\n",
    "        id\n",
    "        title\n",
    "    }\n",
    "}\n",
    "'''\n",
    "\n",
    "result = schema.execute(q)\n",
    "print(result.data)"
   ]
  },
  {
   "cell_type": "code",
   "execution_count": 16,
   "metadata": {},
   "outputs": [],
   "source": [
    "data = [\n",
    "    {\"id\": \"1\", \"title\": \"buku 1\"},\n",
    "    {\"id\": \"2\", \"title\": \"buku 2\"},\n",
    "    {\"id\": \"3\", \"title\": \"buku 3\"},\n",
    "    {\"id\": \"4\", \"title\": \"buku 4\"},\n",
    "    {\"id\": \"5\", \"title\": \"buku 5\"}\n",
    "]"
   ]
  },
  {
   "cell_type": "code",
   "execution_count": 17,
   "metadata": {},
   "outputs": [
    {
     "name": "stdout",
     "output_type": "stream",
     "text": [
      "{'id': '1', 'title': 'buku 1'}\n",
      "{'id': '2', 'title': 'buku 2'}\n",
      "{'id': '3', 'title': 'buku 3'}\n",
      "{'id': '4', 'title': 'buku 4'}\n",
      "{'id': '5', 'title': 'buku 5'}\n"
     ]
    }
   ],
   "source": [
    "for i in data:\n",
    "    print(i)"
   ]
  },
  {
   "cell_type": "code",
   "execution_count": null,
   "metadata": {},
   "outputs": [],
   "source": []
  }
 ],
 "metadata": {
  "kernelspec": {
   "display_name": "graphql",
   "language": "python",
   "name": "python3"
  },
  "language_info": {
   "codemirror_mode": {
    "name": "ipython",
    "version": 3
   },
   "file_extension": ".py",
   "mimetype": "text/x-python",
   "name": "python",
   "nbconvert_exporter": "python",
   "pygments_lexer": "ipython3",
   "version": "3.10.2"
  }
 },
 "nbformat": 4,
 "nbformat_minor": 2
}
