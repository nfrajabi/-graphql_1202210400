{
 "cells": [
  {
   "cell_type": "code",
   "execution_count": 4,
   "metadata": {},
   "outputs": [],
   "source": [
    "import graphene"
   ]
  },
  {
   "cell_type": "code",
   "execution_count": 5,
   "metadata": {},
   "outputs": [],
   "source": [
    "class Book(graphene.ObjectType):\n",
    "    id = graphene.ID()\n",
    "    title = graphene.String()\n",
    "    \n",
    "class Query(graphene.ObjectType):\n",
    "    book = graphene.Field(Book)\n",
    "\n",
    "    def resolve_book(self, info):\n",
    "        return Book(id=\"1\", title=\"Buku 1\")\n",
    "    \n",
    "schema = graphene.Schema(query=Query)"
   ]
  },
  {
   "cell_type": "code",
   "execution_count": 6,
   "metadata": {},
   "outputs": [
    {
     "name": "stdout",
     "output_type": "stream",
     "text": [
      "{'book': {'id': '1', 'title': 'Buku 1'}}\n"
     ]
    }
   ],
   "source": [
    "q = '''\n",
    "{\n",
    "    book {\n",
    "        id\n",
    "        title\n",
    "    }\n",
    "}\n",
    "'''\n",
    "\n",
    "result = schema.execute(q)\n",
    "print(result.data)"
   ]
  },
  {
   "cell_type": "code",
   "execution_count": 7,
   "metadata": {},
   "outputs": [
    {
     "name": "stdout",
     "output_type": "stream",
     "text": [
      "{'book': {'id': '1'}}\n"
     ]
    }
   ],
   "source": [
    "q = '''\n",
    "{\n",
    "    book {\n",
    "        id\n",
    "    }\n",
    "}\n",
    "'''\n",
    "\n",
    "result = schema.execute(q)\n",
    "print(result.data)"
   ]
  },
  {
   "cell_type": "code",
   "execution_count": 8,
   "metadata": {},
   "outputs": [
    {
     "name": "stdout",
     "output_type": "stream",
     "text": [
      "{'book': {'title': 'Buku 1'}}\n"
     ]
    }
   ],
   "source": [
    "q = '''\n",
    "{\n",
    "    book {\n",
    "        title\n",
    "    }\n",
    "}\n",
    "'''\n",
    "\n",
    "result = schema.execute(q)\n",
    "print(result.data)"
   ]
  },
  {
   "cell_type": "code",
   "execution_count": null,
   "metadata": {},
   "outputs": [],
   "source": []
  }
 ],
 "metadata": {
  "kernelspec": {
   "display_name": "graphql",
   "language": "python",
   "name": "python3"
  },
  "language_info": {
   "codemirror_mode": {
    "name": "ipython",
    "version": 3
   },
   "file_extension": ".py",
   "mimetype": "text/x-python",
   "name": "python",
   "nbconvert_exporter": "python",
   "pygments_lexer": "ipython3",
   "version": "3.10.2"
  }
 },
 "nbformat": 4,
 "nbformat_minor": 2
}
